{
 "cells": [
  {
   "cell_type": "code",
   "execution_count": 1,
   "metadata": {},
   "outputs": [],
   "source": [
    "\"\"\"\n",
    "Pool Chemistry Tool\n",
    "\n",
    "version: 0\n",
    "created: 08/02/2020\n",
    "author: Scott Kerstetter\n",
    "\n",
    "Tool tracks pool water chemistry and provides remedy for chemical imbalance\n",
    "\n",
    "\"\"\" \n",
    "\n",
    "\n",
    "import datetime as dt"
   ]
  },
  {
   "cell_type": "code",
   "execution_count": 2,
   "metadata": {
    "scrolled": true
   },
   "outputs": [
    {
     "name": "stdout",
     "output_type": "stream",
     "text": [
      "Pool volume: 51734.11 liters\n",
      "Spa volume: 3032.40 liters\n",
      "Total volume: 54766.51 liters\n"
     ]
    }
   ],
   "source": [
    "# User inputs for pool dimensions\n",
    "# All inputs in meters and square meters\n",
    "\n",
    "# pool inputs\n",
    "poolArea = 38.0902\n",
    "poolDpMin = 1.04\n",
    "poolDpMax = 1.6764\n",
    "\n",
    "# Has spa; enter True or False\n",
    "hasSpa = True\n",
    "\n",
    "# spa inputs\n",
    "spaArea = 3.99\n",
    "spaDpMin = 0.51\n",
    "spaDpMax = 1.01\n",
    "\n",
    "# ***Script Start***\n",
    "# calculate avg depth, vol (cft), volume (gal) for pool, spa and total system\n",
    "if hasSpa == True:\n",
    "    poolVolLiter = 1000 * ((poolDpMin + poolDpMax)/2) * poolArea\n",
    "    spaVolLiter = 1000 * ((spaDpMin + spaDpMax)/2) * spaArea\n",
    "    systemVolLiter = poolVolLiter + spaVolLiter\n",
    "else:\n",
    "    poolVolLiter = 1000 * ((poolDpMin + poolDpMax)/2) * poolArea\n",
    "    systemVolLiter = poolVolLiter\n",
    "\n",
    "if hasSpa == True:    \n",
    "    print(f'Pool volume: {poolVolLiter:.2f} liters')\n",
    "    print(f'Spa volume: {spaVolLiter:.2f} liters')\n",
    "    print(f'Total volume: {systemVolLiter:.2f} liters')\n",
    "else:\n",
    "    print(f'Total volume: {systemVolLiter:.2f} liters')"
   ]
  },
  {
   "cell_type": "code",
   "execution_count": 40,
   "metadata": {},
   "outputs": [
    {
     "name": "stdout",
     "output_type": "stream",
     "text": [
      "\u001b[1mReport Date: 2020-08-15\u001b[0m\n",
      "Free Chlorine: 6 ppm is above acceptable range.\n",
      "Total Chlorine: 3 ppm is below acceptable range.\n",
      "Total Alkalinity: 57 ppm is below acceptable range.\n",
      "Calcium Hardness: 260 ppm is in range.\n",
      "Cyanuric Acid: 37 ppm is in range.\n",
      "\u001b[1m\n",
      "All tests in spec!\u001b[0m\n",
      "Decrease Free Chlorine by 109.53 grams (0.24 lbs).\n",
      "Increase Total Alkalinity by 2354.96 grams (5.19 lbs).\n"
     ]
    }
   ],
   "source": [
    "# define variables\n",
    "\n",
    "'''\n",
    "PARTS PER MILLIONS EQUATION\n",
    "\n",
    "ppm = (solute/solution) * 1e6 \n",
    "\n",
    "solute and solution units must be same in either mass or volume (g, mg, kg, ml, l, kl, etc)\n",
    "\n",
    "\n",
    "CATEGORY / IDEAL RANGE / VARIABLE NAME\n",
    "\n",
    "Free chlorine / 1 - 4 ppm / frcl\n",
    "Total chlorine / tlcl\n",
    "pH / 7.2 - 7.8 / ph\n",
    "Total Alkalinity / 80 - 120 ppm / tlalk\n",
    "Calcium Hardness / 200 - 400 ppm / cahd\n",
    "Cyanuric Acid / 30 - 100 ppm / cya\n",
    "\n",
    "'''\n",
    "# *** USER INPUTS ***\n",
    "\n",
    "# solute concentrations in ppm\n",
    "frcl = 6\n",
    "tlcl = 3\n",
    "tlalk = 57\n",
    "cahd = 260\n",
    "cya = 37\n",
    "\n",
    "# acidity of pool water\n",
    "ph = 8\n",
    "\n",
    "# *** SCRIPT START ***\n",
    "\n",
    "# *** PPM LIST FOR SOLUTE CONCENTRATIONS ***\n",
    "# sublists contain:\n",
    "# idx 0 user input\n",
    "# idx 1 minimum acceptable concentration\n",
    "# idx 2 ideal concentration\n",
    "# idx 3 maximum acceptable concentration\n",
    "ppmList = [['Free Chlorine', frcl, 3, 4, 5, False], ['Total Chlorine', tlcl, frcl - 0.2, frcl, frcl + 0.2, False], ['Total Alkalinity', tlalk, 80, 100, 120, False], ['Calcium Hardness', cahd, 200, 300, 400, False], ['Cyanuric Acid', cya, 30, 65, 100, False]]\n",
    "\n",
    "\n",
    "# date of report input\n",
    "testDate = dt.date.today()\n",
    "\n",
    "print('\\033[1m' + f'Report Date: {testDate}' + '\\033[0m')\n",
    "needsAdjustment = []\n",
    "k = 0\n",
    "for i in ppmList:\n",
    "    if ppmList[k][1] >= ppmList[k][2] and ppmList[k][1] <= ppmList[k][4]:\n",
    "        print(f'{ppmList[k][0]}: {ppmList[k][1]} ppm is in range.')\n",
    "    elif ppmList[k][1] > ppmList[k][4]:\n",
    "        print(f'{ppmList[k][0]}: {ppmList[k][1]} ppm is above acceptable range.')\n",
    "        ppmList[k][5] = True\n",
    "    elif ppmList[k][1] < ppmList[k][2]:\n",
    "        print(f'{ppmList[k][0]}: {ppmList[k][1]} ppm is below acceptable range.')\n",
    "        ppmList[k][5] = True\n",
    "    k += 1\n",
    "\n",
    "# provide remedy for solutes outside ppm limit\n",
    "# results in grams\n",
    "k = 0\n",
    "if True in ppmList:\n",
    "    print('\\033[1m' + '\\n' + 'Remedy' + '\\033[0m')\n",
    "else:\n",
    "    print('\\033[1m' + '\\n' + 'All tests in spec!' + '\\033[0m')\n",
    "for i in ppmList:\n",
    "    if ppmList[k][0] == \"Total Chlorine\":\n",
    "        next\n",
    "    elif ppmList[k][5] == True:\n",
    "        remedy = ((ppmList[k][3] - ppmList[k][1]) * systemVolLiter) / 1000\n",
    "        if remedy < 0:\n",
    "            print(f'Decrease {ppmList[k][0]} by {abs(remedy):.2f} grams ({abs(remedy/453.592):.2f} lbs).')\n",
    "        else:\n",
    "            print(f'Increase {ppmList[k][0]} by {remedy:.2f} grams ({remedy/453.592:.2f} lbs).')\n",
    "    k += 1"
   ]
  },
  {
   "cell_type": "code",
   "execution_count": null,
   "metadata": {},
   "outputs": [],
   "source": [
    "# Water Chemistry Calendar\n",
    "# plot chemistry data through time\n",
    "# best results from more frequent sampling / test strips\n",
    "\n",
    "# report results and remedies for all tests"
   ]
  },
  {
   "cell_type": "code",
   "execution_count": null,
   "metadata": {},
   "outputs": [],
   "source": [
    "# import and plot past weather data"
   ]
  },
  {
   "cell_type": "code",
   "execution_count": null,
   "metadata": {},
   "outputs": [],
   "source": [
    "# import weather forecast and warn of impending rain/storms"
   ]
  }
 ],
 "metadata": {
  "kernelspec": {
   "display_name": "Python 3",
   "language": "python",
   "name": "python3"
  },
  "language_info": {
   "codemirror_mode": {
    "name": "ipython",
    "version": 3
   },
   "file_extension": ".py",
   "mimetype": "text/x-python",
   "name": "python",
   "nbconvert_exporter": "python",
   "pygments_lexer": "ipython3",
   "version": "3.7.4"
  }
 },
 "nbformat": 4,
 "nbformat_minor": 2
}
